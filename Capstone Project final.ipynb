{
    "cells": [
        {
            "cell_type": "markdown",
            "metadata": {
                "collapsed": true
            },
            "source": "# Coursera Capstone Project"
        },
        {
            "cell_type": "markdown",
            "metadata": {},
            "source": "## The Battle of Neighborhoods (Week 1)"
        },
        {
            "cell_type": "code",
            "execution_count": 1,
            "metadata": {},
            "outputs": [
                {
                    "name": "stdout",
                    "output_type": "stream",
                    "text": "Collecting folium\n  Downloading folium-0.12.0-py2.py3-none-any.whl (94 kB)\n\u001b[K     |\u2588\u2588\u2588\u2588\u2588\u2588\u2588\u2588\u2588\u2588\u2588\u2588\u2588\u2588\u2588\u2588\u2588\u2588\u2588\u2588\u2588\u2588\u2588\u2588\u2588\u2588\u2588\u2588\u2588\u2588\u2588\u2588| 94 kB 7.3 MB/s  eta 0:00:01\n\u001b[?25hRequirement already satisfied: jinja2>=2.9 in /opt/conda/envs/Python-3.7-main/lib/python3.7/site-packages (from folium) (2.11.2)\nRequirement already satisfied: requests in /opt/conda/envs/Python-3.7-main/lib/python3.7/site-packages (from folium) (2.24.0)\nCollecting branca>=0.3.0\n  Downloading branca-0.4.2-py3-none-any.whl (24 kB)\nRequirement already satisfied: numpy in /opt/conda/envs/Python-3.7-main/lib/python3.7/site-packages (from folium) (1.18.5)\nRequirement already satisfied: MarkupSafe>=0.23 in /opt/conda/envs/Python-3.7-main/lib/python3.7/site-packages (from jinja2>=2.9->folium) (1.1.1)\nRequirement already satisfied: chardet<4,>=3.0.2 in /opt/conda/envs/Python-3.7-main/lib/python3.7/site-packages (from requests->folium) (3.0.4)\nRequirement already satisfied: certifi>=2017.4.17 in /opt/conda/envs/Python-3.7-main/lib/python3.7/site-packages (from requests->folium) (2020.12.5)\nRequirement already satisfied: idna<3,>=2.5 in /opt/conda/envs/Python-3.7-main/lib/python3.7/site-packages (from requests->folium) (2.9)\nRequirement already satisfied: urllib3!=1.25.0,!=1.25.1,<1.26,>=1.21.1 in /opt/conda/envs/Python-3.7-main/lib/python3.7/site-packages (from requests->folium) (1.25.9)\nInstalling collected packages: branca, folium\nSuccessfully installed branca-0.4.2 folium-0.12.0\nLibraries imported.\n"
                }
            ],
            "source": "import numpy as np # library to handle data in a vectorized manner\nimport time\nimport pandas as pd # library for data analsysis\npd.set_option('display.max_columns', None)\npd.set_option('display.max_rows', None)\n\nimport json # library to handle JSON files\nimport requests # library to handle requests\nfrom pandas.io.json import json_normalize # tranform JSON file into a pandas dataframe\n\nfrom geopy.geocoders import Nominatim # convert an address into latitude and longitude values\n!pip install folium\nimport folium # map rendering library\n\nprint('Libraries imported.')"
        },
        {
            "cell_type": "markdown",
            "metadata": {},
            "source": "### 1. Introduction Section"
        },
        {
            "cell_type": "markdown",
            "metadata": {},
            "source": "#### Scenario:\nI currently live in Singapore within walking distance to Downtown Sixth Avenue MRT metro station and I could find some places to eat out in the area. However, we do not have any places around here such as supermarkets and howkers which are traditional food court in Singapore where we could enjoy a variety of meals at reasonable cost. I would like to use this opportunity to practice my learnings in Coursera. My question for this learning practice is : How can I find a convenient and enjoyable place where I could enjoy food from howkers and easily go to supermarkets in Singapore? I assume I could utilize available real estate apps and Google but the idea is to use and apply myself the learned tools during the course.\nThe following are key points which I believe relevant to the question.\n\nWhether howkers are or is located within walking distance such as within 1.0 mile(1.6km)\nWhether supermarkets or is located within walking distance such as within 1.0 mile (1.6km)\n\nBusiness Problem:\nThe challenge is to find a suitable are for rent in Singapore that complies with the demands on location. The data required to resolve this challenge is described in the following section 2, below."
        },
        {
            "cell_type": "markdown",
            "metadata": {},
            "source": "### 2. Data Section"
        },
        {
            "cell_type": "markdown",
            "metadata": {},
            "source": "#### \nThe following data is required to answer the issues of the problem:\n\nList of howkers in Singapore with their geodata (latitud and longitud)\nList of Supermarkets in Singapore with their address location\n\nHow the data will be used to solve the problem\nThe data will be used as follows:\n\ncreate a map that depicts around a radious of 1.0 mile (1.6 km) around each howkers and supermarkets.\n\nData will be searched in open data sources if available, from real estate sites if open to reading."
        }
    ],
    "metadata": {
        "kernelspec": {
            "display_name": "Python 3.7",
            "language": "python",
            "name": "python3"
        },
        "language_info": {
            "codemirror_mode": {
                "name": "ipython",
                "version": 3
            },
            "file_extension": ".py",
            "mimetype": "text/x-python",
            "name": "python",
            "nbconvert_exporter": "python",
            "pygments_lexer": "ipython3",
            "version": "3.7.9"
        }
    },
    "nbformat": 4,
    "nbformat_minor": 1
}